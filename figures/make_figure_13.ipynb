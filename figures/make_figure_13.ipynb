{
 "cells": [
  {
   "cell_type": "code",
   "execution_count": 1,
   "id": "0435ac32",
   "metadata": {},
   "outputs": [],
   "source": [
    "import numpy as np\n",
    "import h5py\n",
    "import matplotlib.pyplot as plt\n",
    "import matplotlib as mpl\n",
    "mpl.style.use('../plotting.mplstyle')\n",
    "import sys\n",
    "sys.path.append(\"./../code/\")\n",
    "from piCurve import *\n",
    "from matplotlib import cm\n",
    "from gwBackground import *\n",
    "from makeDelayedRateData import *\n",
    "from scipy.special import gammainc\n",
    "from geometry import *\n",
    "from math import comb,factorial\n",
    "import population_parameters\n",
    "\n",
    "blue = \"#1f78b4\"\n",
    "green = \"#33a02c\"\n",
    "red = \"#e31a1c\""
   ]
  },
  {
   "cell_type": "code",
   "execution_count": 2,
   "id": "e6efee31",
   "metadata": {},
   "outputs": [],
   "source": [
    "def read_output(filepath):\n",
    "    \n",
    "    # Read hdf file\n",
    "    hfile = h5py.File(filepath,'r')\n",
    "    \n",
    "    # Get joint 2D posteriors\n",
    "    resultsDict = {k:v[()] for k,v in hfile['result'].items()}\n",
    "    \n",
    "    return resultsDict\n",
    "\n",
    "def get_max_likelihood_params(resultDict):\n",
    "    \n",
    "    dc_argmax,z_argmax = np.unravel_index(np.argmax(resultDict['probabilities']),resultDict['probabilities'].shape)\n",
    "    kappa_dc_max = resultDict['kappa_dcs_2D'][dc_argmax]\n",
    "    kappa_z_max = resultDict['kappa_zs_2D'][z_argmax]\n",
    "    \n",
    "    return kappa_dc_max,kappa_z_max"
   ]
  },
  {
   "cell_type": "code",
   "execution_count": 3,
   "id": "b9e71040",
   "metadata": {},
   "outputs": [],
   "source": [
    "# Input data\n",
    "f_H1L1_O1,C_H1L1_O1,sigma_H1L1_O1 = np.loadtxt('../input/H1L1_O1.dat',unpack=True,skiprows=1)\n",
    "f_H1L1_O2,C_H1L1_O2,sigma_H1L1_O2 = np.loadtxt('../input/H1L1_O2.dat',unpack=True,skiprows=1)\n",
    "f_H1L1_O3,C_H1L1_O3,sigma_H1L1_O3 = np.loadtxt('../input/H1L1_O3.dat',unpack=True,skiprows=1)\n",
    "f_H1V1_O3,C_H1V1_O3,sigma_H1V1_O3 = np.loadtxt('../input/H1V1_O3.dat',unpack=True,skiprows=1)\n",
    "f_L1V1_O3,C_L1V1_O3,sigma_L1V1_O3 = np.loadtxt('../input/L1V1_O3.dat',unpack=True,skiprows=1)\n",
    "\n",
    "# Inference results\n",
    "HLO1 = read_output('./../data/fixed_rate_delayedSFR_HLO1.hdf')\n",
    "HLO2 = read_output('./../data/fixed_rate_delayedSFR_HLO2.hdf')\n",
    "HLO3 = read_output('./../data/fixed_rate_delayedSFR_HLO3.hdf')\n",
    "HVO3 = read_output('./../data/fixed_rate_delayedSFR_HVO3.hdf')\n",
    "LVO3 = read_output('./../data/fixed_rate_delayedSFR_LVO3.hdf')\n",
    "full = read_output('./../data/fixed_rate_delayedSFR.hdf')"
   ]
  },
  {
   "cell_type": "code",
   "execution_count": 4,
   "id": "dbf990af",
   "metadata": {},
   "outputs": [],
   "source": [
    "full_kappa_dc_max,full_kappa_z_max = get_max_likelihood_params(full)"
   ]
  },
  {
   "cell_type": "code",
   "execution_count": 5,
   "id": "8a126b24",
   "metadata": {},
   "outputs": [
    {
     "name": "stderr",
     "output_type": "stream",
     "text": [
      "/Users/tcallister/Documents/Repositories/stochastic-birefringence/figures/./../code/gwBackground.py:352: RuntimeWarning: divide by zero encountered in divide\n",
      "  probs_m2 = (1.+bq)*np.power(self.m2s_2d,bq)/(np.power(self.m1s_2d,1.+bq)-2.**(1.+bq))\n"
     ]
    }
   ],
   "source": [
    "# First prepare a grid of redshifts and (arbitrarily normalized) merger rate values.\n",
    "# In this case, our model a metallicity-weighted and time-delayed Madau+Dickinson SFR\n",
    "rateData = generateTimeDelayData()\n",
    "zs_merger = rateData['zs']\n",
    "time_delays = rateData['tds']\n",
    "zs_formation = rateData['formationRedshifts']\n",
    "formationRates = rateData['formationRates']\n",
    "\n",
    "# The following function is an approximation to the integrated fraction of star formation below\n",
    "# Z=Z_sun/10 as a function of redshift\n",
    "low_Z_fraction = gammainc(0.84,(0.1**2.)*np.power(10.,0.3*zs_formation))\n",
    "\n",
    "# Multiply by total formation rate to get the rate of low metallicity star formation\n",
    "weightedFormationRates = formationRates*low_Z_fraction\n",
    "\n",
    "# Convolve formation rate with time-delay distribution\n",
    "# Set t_min = 10 Myr\n",
    "tdMin = 0.01\n",
    "dpdt = np.power(time_delays,-1)\n",
    "dpdt[time_delays<tdMin] = 0.\n",
    "dRdV_delayed = weightedFormationRates.dot(dpdt)\n",
    "dRdV_delayed /= dRdV_delayed[0]\n",
    "\n",
    "# Instantiate SGWB calculator\n",
    "m_absolute_min = 2.\n",
    "m_absolute_max = 100.\n",
    "omg = OmegaGW_BBH(m_absolute_min,m_absolute_max,zs_merger,gridSize=(30,29))\n",
    "\n",
    "# Define hyperparameters describing mass distribution\n",
    "R0 = population_parameters.R0\n",
    "m_min = population_parameters.m_min\n",
    "m_max = population_parameters.m_max\n",
    "dm_min = population_parameters.dm_min\n",
    "dm_max = population_parameters.dm_max\n",
    "alpha = population_parameters.alpha_m\n",
    "mu_peak = population_parameters.mu_peak\n",
    "sig_peak = population_parameters.sig_peak\n",
    "frac_peak = population_parameters.frac_peak\n",
    "bq = population_parameters.bq\n",
    "\n",
    "# Pass these to our SGWB calculator\n",
    "omg.setProbs_plPeak(m_min,m_max,dm_min,dm_max,alpha,mu_peak,sig_peak,frac_peak,bq)"
   ]
  },
  {
   "cell_type": "code",
   "execution_count": 6,
   "id": "2bf382b8",
   "metadata": {},
   "outputs": [],
   "source": [
    "# As noted elsewhere, to properly define the cumulative SNR we have to use identical ORFs\n",
    "# to those used in the initial creation of the stochastic data.\n",
    "# Hence we are loading in ORFs computed using stochastic.m\n",
    "matlab_orf_freqs,matlab_orf_H1L1,matlab_orf_H1V1,matlab_orf_L1V1 = np.loadtxt('../input/matlab_orfs.dat',unpack=True)\n",
    "\n",
    "# Also as noted elsewhere, the frequency arrays in publicly released stochastic data lack the\n",
    "# required precision to fully specify the correct frequencies. Load frequencies as well\n",
    "# from the raw matlab calculation\n",
    "freqs = matlab_orf_freqs[matlab_orf_freqs<=1726]\n",
    "matlab_orf_H1L1 = matlab_orf_H1L1[matlab_orf_freqs<=1726]\n",
    "matlab_orf_H1V1 = matlab_orf_H1V1[matlab_orf_freqs<=1726]\n",
    "matlab_orf_L1V1 = matlab_orf_L1V1[matlab_orf_freqs<=1726]\n",
    "\n",
    "# Instantiate baseline objects\n",
    "H1L1 = Baseline(Detector.H1(),Detector.L1())\n",
    "H1V1 = Baseline(Detector.H1(),Detector.V1())\n",
    "L1V1 = Baseline(Detector.L1(),Detector.V1())\n",
    "\n",
    "# Use baseline objects to compute overlap reduction functions for Stokes-I and Stokes-V signals\n",
    "H1L1_gammaI,H1L1_gammaV = H1L1.stokes_overlap_reduction_functions(freqs)\n",
    "H1V1_gammaI,H1V1_gammaV = H1V1.stokes_overlap_reduction_functions(freqs)\n",
    "L1V1_gammaI,L1V1_gammaV = L1V1.stokes_overlap_reduction_functions(freqs)"
   ]
  },
  {
   "cell_type": "code",
   "execution_count": 7,
   "id": "99b2067f",
   "metadata": {},
   "outputs": [],
   "source": [
    "# Evaluate background\n",
    "full_OmgI,full_OmgV = omg.eval(R0,dRdV_delayed,freqs,full_kappa_dc_max,full_kappa_z_max)\n",
    "\n",
    "# Obtain signal models for each baseline\n",
    "HL_model = np.array(full_OmgI + (H1L1_gammaV/matlab_orf_H1L1)*full_OmgV)\n",
    "HV_model = np.array(full_OmgI + (H1V1_gammaV/matlab_orf_H1V1)*full_OmgV)\n",
    "LV_model = np.array(full_OmgI + (L1V1_gammaV/matlab_orf_L1V1)*full_OmgV)"
   ]
  },
  {
   "cell_type": "code",
   "execution_count": 8,
   "id": "439c75db",
   "metadata": {},
   "outputs": [],
   "source": [
    "def get_total_snr(Cs,sigmas,model):\n",
    "    \n",
    "    Cs[np.isinf(sigmas)] = 0\n",
    "    signal_inner_model = np.sum(Cs*model/sigmas**2)\n",
    "    model_inner_model = np.sum(model**2/sigmas**2)\n",
    "    \n",
    "    return signal_inner_model/np.sqrt(model_inner_model)"
   ]
  },
  {
   "cell_type": "code",
   "execution_count": 9,
   "id": "75a465ea",
   "metadata": {},
   "outputs": [],
   "source": [
    "# Hanford-Livingston SNRs\n",
    "actual_HL_O1 = get_total_snr(C_H1L1_O1,sigma_H1L1_O1,HL_model)\n",
    "actual_HL_O2 = get_total_snr(C_H1L1_O2,sigma_H1L1_O2,HL_model)\n",
    "actual_HL = get_total_snr(C_H1L1_O3,sigma_H1L1_O3,HL_model)\n",
    "optimal_HL_O1 = get_total_snr(HL_model,sigma_H1L1_O1,HL_model)\n",
    "optimal_HL_O2 = get_total_snr(HL_model,sigma_H1L1_O2,HL_model)\n",
    "optimal_HL = get_total_snr(HL_model,sigma_H1L1_O3,HL_model)\n",
    "\n",
    "# Hanford-Virgo SNRs\n",
    "actual_HV = get_total_snr(C_H1V1_O3,sigma_H1V1_O3,HV_model)\n",
    "optimal_HV = get_total_snr(HV_model,sigma_H1V1_O3,HV_model)\n",
    "\n",
    "# Livingston-Virgo SNRs\n",
    "actual_LV = get_total_snr(C_L1V1_O3,sigma_L1V1_O3,LV_model)\n",
    "optimal_LV = get_total_snr(LV_model,sigma_L1V1_O3,LV_model)"
   ]
  },
  {
   "cell_type": "code",
   "execution_count": 10,
   "id": "146ea79d",
   "metadata": {},
   "outputs": [],
   "source": [
    "nTrials = 100000\n",
    "\n",
    "# Draw random Gaussian distributed \"observed\" SNRs about predicted expectation value\n",
    "snrs_HL_O1 = np.random.normal(loc=optimal_HL_O1,scale=1,size=nTrials)\n",
    "snrs_HL_O2 = np.random.normal(loc=optimal_HL_O2,scale=1,size=nTrials)\n",
    "snrs_HL = np.random.normal(loc=optimal_HL,scale=1,size=nTrials)\n",
    "snrs_HV = np.random.normal(loc=optimal_HV,scale=1,size=nTrials)\n",
    "snrs_LV = np.random.normal(loc=optimal_LV,scale=1,size=nTrials)"
   ]
  },
  {
   "cell_type": "code",
   "execution_count": 11,
   "id": "1bb64c3c",
   "metadata": {},
   "outputs": [
    {
     "data": {
      "image/png": "[encoded data removed]",
      "text/plain": [
       "<Figure size 450x300 with 1 Axes>"
      ]
     },
     "metadata": {},
     "output_type": "display_data"
    }
   ],
   "source": [
    "fig,ax = plt.subplots(figsize=(4.5,3))\n",
    "\n",
    "ax.scatter([1,2,3,4,5],\n",
    "           [actual_HL_O1,actual_HL_O2,actual_HL,actual_HV,actual_LV],\n",
    "           marker='x',color='black')\n",
    "\n",
    "violins = ax.violinplot([snrs_HL_O1,snrs_HL_O2,snrs_HL,snrs_HV,snrs_LV],showextrema=False,widths=0.4)\n",
    "violins['bodies'][0].set_facecolor(blue)\n",
    "violins['bodies'][1].set_facecolor(blue)\n",
    "violins['bodies'][2].set_facecolor(blue)\n",
    "violins['bodies'][3].set_facecolor(red)\n",
    "violins['bodies'][4].set_facecolor(green)\n",
    "\n",
    "ax.set_xticks([1,2,3,4,5])\n",
    "ax.set_xticklabels([r'HL~(O1)',r'HL~(O2)',r'HL~(O3)',r'HV~(O3)',r'LV~(O3)'],fontsize=12)\n",
    "\n",
    "ax.set_xlim(0.5,5.5)\n",
    "ax.set_ylabel('Expected SNR')\n",
    "ax.xaxis.grid(False)\n",
    "ax.set_ylim(-4,6)\n",
    "\n",
    "plt.savefig('figure_13.pdf',bbox_inches='tight',dpi=200)\n",
    "plt.show()"
   ]
  },
  {
   "cell_type": "code",
   "execution_count": 12,
   "id": "d8f99fc2",
   "metadata": {},
   "outputs": [],
   "source": [
    "def cumulative_prob(observed,expected):\n",
    "    return 0.5*(1.+erf((observed-expected)/np.sqrt(2.)))"
   ]
  },
  {
   "cell_type": "code",
   "execution_count": 13,
   "id": "40c57b64",
   "metadata": {},
   "outputs": [
    {
     "data": {
      "text/plain": [
       "0.006507720207626562"
      ]
     },
     "execution_count": 13,
     "metadata": {},
     "output_type": "execute_result"
    }
   ],
   "source": [
    "p_HV_geq_observed = 1 - cumulative_prob(actual_HV,optimal_HV)\n",
    "p_LV_leq_observed = cumulative_prob(actual_LV,optimal_LV)\n",
    "p_HV_geq_observed*p_LV_leq_observed"
   ]
  },
  {
   "cell_type": "code",
   "execution_count": 14,
   "id": "b5213f76",
   "metadata": {},
   "outputs": [
    {
     "name": "stdout",
     "output_type": "stream",
     "text": [
      "0.2013050946026458\n"
     ]
    }
   ],
   "source": [
    "above_HV = 1 - cumulative_prob(actual_HV,optimal_HV)\n",
    "below_HV = cumulative_prob(actual_HV,optimal_HV)\n",
    "\n",
    "p_above = comb(5,5)*above_HV**5 \\\n",
    "            + comb(5,4)*above_HV**4*below_HV \\\n",
    "            + comb(5,3)*above_HV**3*below_HV**2 \\\n",
    "            + comb(5,2)*above_HV**2*below_HV**3 \\\n",
    "            + comb(5,1)*above_HV*below_HV**4\n",
    "\n",
    "print(p_above)"
   ]
  },
  {
   "cell_type": "code",
   "execution_count": 15,
   "id": "c6e142d9",
   "metadata": {},
   "outputs": [
    {
     "name": "stdout",
     "output_type": "stream",
     "text": [
      "0.09685510227916795\n"
     ]
    }
   ],
   "source": [
    "above_HV = 1 - cumulative_prob(actual_HV,optimal_HV)\n",
    "below_LV = cumulative_prob(actual_LV,optimal_LV)\n",
    "\n",
    "def m_choose_ab(m,a,b):\n",
    "    return factorial(m)/(factorial(a)*factorial(b)*factorial(m-a-b))\n",
    "\n",
    "p_above_and_below = m_choose_ab(5,1,1)*above_HV*below_LV*(1.-above_HV-below_LV)**3 \\\n",
    "                        + m_choose_ab(5,1,2)*above_HV*below_LV**2*(1.-above_HV-below_LV)**2 \\\n",
    "                        + m_choose_ab(5,1,3)*above_HV*below_LV**3*(1.-above_HV-below_LV) \\\n",
    "                        + m_choose_ab(5,1,4)*above_HV*below_LV**4 \\\n",
    "                        + m_choose_ab(5,2,1)*above_HV**2*below_LV*(1.-above_HV-below_LV)**2 \\\n",
    "                        + m_choose_ab(5,2,2)*above_HV**2*below_LV**2*(1.-above_HV-below_LV) \\\n",
    "                        + m_choose_ab(5,2,3)*above_HV**2*below_LV**3 \\\n",
    "                        + m_choose_ab(5,3,1)*above_HV**3*below_LV*(1.-above_HV-below_LV) \\\n",
    "                        + m_choose_ab(5,3,2)*above_HV**3*below_LV**2 \\\n",
    "                        + m_choose_ab(5,4,1)*above_HV**4*below_LV\n",
    "\n",
    "print(p_above_and_below)"
   ]
  },
  {
   "cell_type": "code",
   "execution_count": 16,
   "id": "1300ede1",
   "metadata": {},
   "outputs": [
    {
     "name": "stdout",
     "output_type": "stream",
     "text": [
      "0.11100199881407995\n"
     ]
    }
   ],
   "source": [
    "above_HV = 1 - cumulative_prob(actual_HV,0)\n",
    "below_HV = cumulative_prob(actual_HV,0)\n",
    "\n",
    "p_above_pureNoise = comb(5,5)*above_HV**5 \\\n",
    "            + comb(5,4)*above_HV**4*below_HV \\\n",
    "            + comb(5,3)*above_HV**3*below_HV**2 \\\n",
    "            + comb(5,2)*above_HV**2*below_HV**3 \\\n",
    "            + comb(5,1)*above_HV*below_HV**4\n",
    "\n",
    "print(p_above_pureNoise)"
   ]
  },
  {
   "cell_type": "code",
   "execution_count": 17,
   "id": "5973f985",
   "metadata": {},
   "outputs": [
    {
     "name": "stdout",
     "output_type": "stream",
     "text": [
      "0.07471216628504074\n"
     ]
    }
   ],
   "source": [
    "above_HV = 1 - cumulative_prob(actual_HV,0)\n",
    "below_LV = cumulative_prob(actual_LV,0)\n",
    "\n",
    "def m_choose_ab(m,a,b):\n",
    "    return factorial(m)/(factorial(a)*factorial(b)*factorial(m-a-b))\n",
    "\n",
    "p_above_and_below_pureNoise = m_choose_ab(5,1,1)*above_HV*below_LV*(1.-above_HV-below_LV)**3 \\\n",
    "                        + m_choose_ab(5,1,2)*above_HV*below_LV**2*(1.-above_HV-below_LV)**2 \\\n",
    "                        + m_choose_ab(5,1,3)*above_HV*below_LV**3*(1.-above_HV-below_LV) \\\n",
    "                        + m_choose_ab(5,1,4)*above_HV*below_LV**4 \\\n",
    "                        + m_choose_ab(5,2,1)*above_HV**2*below_LV*(1.-above_HV-below_LV)**2 \\\n",
    "                        + m_choose_ab(5,2,2)*above_HV**2*below_LV**2*(1.-above_HV-below_LV) \\\n",
    "                        + m_choose_ab(5,2,3)*above_HV**2*below_LV**3 \\\n",
    "                        + m_choose_ab(5,3,1)*above_HV**3*below_LV*(1.-above_HV-below_LV) \\\n",
    "                        + m_choose_ab(5,3,2)*above_HV**3*below_LV**2 \\\n",
    "                        + m_choose_ab(5,4,1)*above_HV**4*below_LV\n",
    "\n",
    "print(p_above_and_below_pureNoise)"
   ]
  },
  {
   "cell_type": "code",
   "execution_count": 18,
   "id": "e5a0a442",
   "metadata": {},
   "outputs": [],
   "source": [
    "# Save our fitting results\n",
    "with open('./SNR_probabilities.txt','w') as macrofile:\n",
    "    \n",
    "    macrofile.write(\"\\\\newcommand{{\\\\ProbHVSNR}}{{{0:.3f}}}\".format(p_HV_geq_observed))\n",
    "    macrofile.write(\"\\n\")\n",
    "    \n",
    "    macrofile.write(\"\\\\newcommand{{\\\\ProbLVSNR}}{{{0:.2f}}}\".format(p_LV_leq_observed))\n",
    "    macrofile.write(\"\\n\")\n",
    "    \n",
    "    macrofile.write(\"\\\\newcommand{{\\\\ProbHVLVSNR}}{{{0:.4f}}}\".format(p_HV_geq_observed*p_LV_leq_observed))\n",
    "    macrofile.write(\"\\n\")\n",
    "    \n",
    "    macrofile.write(\"\\\\newcommand{{\\\\ProbAboveWithTrials}}{{{0:.2f}}}\".format(p_above))\n",
    "    macrofile.write(\"\\n\")\n",
    "\n",
    "    macrofile.write(\"\\\\newcommand{{\\\\ProbAboveAndBelowWithTrials}}{{{0:.2f}}}\".format(p_above_and_below))\n",
    "    macrofile.write(\"\\n\")\n",
    "    \n",
    "    macrofile.write(\"\\\\newcommand{{\\\\ProbAboveWithTrialsNoise}}{{{0:.2f}}}\".format(p_above_pureNoise))\n",
    "    macrofile.write(\"\\n\")\n",
    "\n",
    "    macrofile.write(\"\\\\newcommand{{\\\\ProbAboveAndBelowWithTrialsNoise}}{{{0:.2f}}}\".format(p_above_and_below_pureNoise))\n",
    "    macrofile.write(\"\\n\")"
   ]
  },
  {
   "cell_type": "code",
   "execution_count": null,
   "id": "2b70b02f",
   "metadata": {},
   "outputs": [],
   "source": []
  }
 ],
 "metadata": {
  "kernelspec": {
   "display_name": "Python 3 (ipykernel)",
   "language": "python",
   "name": "python3"
  },
  "language_info": {
   "codemirror_mode": {
    "name": "ipython",
    "version": 3
   },
   "file_extension": ".py",
   "mimetype": "text/x-python",
   "name": "python",
   "nbconvert_exporter": "python",
   "pygments_lexer": "ipython3",
   "version": "3.10.8"
  }
 },
 "nbformat": 4,
 "nbformat_minor": 5
}
