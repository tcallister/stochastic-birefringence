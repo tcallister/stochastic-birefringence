{
 "cells": [
  {
   "cell_type": "code",
   "execution_count": null,
   "id": "e5e9a464",
   "metadata": {},
   "outputs": [],
   "source": [
    "import matplotlib.pyplot as plt\n",
    "import matplotlib as mpl\n",
    "mpl.style.use('../plotting.mplstyle')\n",
    "import h5py\n",
    "from matplotlib import cm\n",
    "import numpy as np\n",
    "\n",
    "blue = \"#1f78b4\"\n",
    "green = \"#33a02c\"\n",
    "red = \"#e31a1c\""
   ]
  },
  {
   "cell_type": "code",
   "execution_count": null,
   "id": "eb42ad21",
   "metadata": {},
   "outputs": [],
   "source": [
    "# Read data\n",
    "hfile = h5py.File('./../data/fixed_rate_uniform.hdf','r')\n",
    "\n",
    "# Read out joint probability distribution data\n",
    "p_joint = np.array(hfile['result']['probabilities'])\n",
    "kappa_dcs_2D = np.array(hfile['result']['kappa_dcs_2D'])\n",
    "kappa_zs_2D = np.array(hfile['result']['kappa_zs_2D'])\n",
    "\n",
    "# And 1D posteriors, conditional on the other parameter being zero\n",
    "p_kappa_dc = np.array(hfile['result']['probability_kappa_dc_1D'])\n",
    "p_kappa_z = np.array(hfile['result']['probability_kappa_z_1D'])\n",
    "kappa_dcs_1D = np.array(hfile['result']['kappa_dcs_1D'])\n",
    "kappa_zs_1D = np.array(hfile['result']['kappa_zs_1D'])\n",
    "\n",
    "# Compute marginal probability distributions\n",
    "p_kappa_dc_marginal = np.trapz(p_joint,axis=1)\n",
    "p_kappa_dc_marginal /= np.trapz(p_kappa_dc_marginal,kappa_dcs_2D)\n",
    "\n",
    "p_kappa_z_marginal = np.trapz(p_joint,axis=0)\n",
    "p_kappa_z_marginal /= np.trapz(p_kappa_z_marginal,kappa_zs_2D)"
   ]
  },
  {
   "cell_type": "code",
   "execution_count": null,
   "id": "6d02d4b9",
   "metadata": {},
   "outputs": [],
   "source": [
    "fig = plt.figure(figsize=(6,5))\n",
    "\n",
    "ax = fig.add_subplot(223)\n",
    "ax.set_rasterization_zorder(2)\n",
    "cmap = cm.Blues\n",
    "cmap.set_under(\"white\")\n",
    "c = ax.pcolormesh(kappa_dcs_2D,kappa_zs_2D,p_joint.T,cmap=cmap,vmin=1e-6,zorder=1)\n",
    "ax.set_xlabel('$\\kappa_D$')\n",
    "ax.set_ylabel('$\\kappa_z$')\n",
    "ax.set_xlim(-0.5,0.5)\n",
    "ax.set_ylim(-1.,1.)\n",
    "\n",
    "ax = fig.add_subplot(221)\n",
    "ax.plot(kappa_dcs_2D,p_kappa_dc_marginal,color=blue,label=\"Marginal $p(\\kappa_D)$\",zorder=3)\n",
    "ax.plot(kappa_dcs_1D,p_kappa_dc,color=blue,ls='--',label=\"$p(\\kappa_D|\\kappa_z=0)$\",zorder=4)\n",
    "ax.plot([-0.5,0.5],[1.,1.],color='grey',dashes=(1.5,1),label=\"Prior\",zorder=2)\n",
    "ax.set_xlim(-0.5,0.5)\n",
    "ax.set_ylim(0,10)\n",
    "ax.set_xticklabels([])\n",
    "ax.set_ylabel('$p(\\kappa_D)$')\n",
    "ax.legend(loc='upper left')\n",
    "\n",
    "ax = fig.add_subplot(224)\n",
    "ax.plot(kappa_zs_2D,p_kappa_z_marginal,color=blue,label=\"Marginal $p(\\kappa_z)$\",zorder=3)\n",
    "ax.plot(kappa_zs_1D,p_kappa_z,color=blue,ls='--',label=\"$p(\\kappa_z|\\kappa_D=0)$\",zorder=4)\n",
    "ax.plot([-1,1],[0.5,0.5],color='grey',dashes=(1.5,1),label=\"Prior\",zorder=2)\n",
    "ax.set_xlim(-1,1)\n",
    "ax.set_ylim(0,4)\n",
    "ax.set_yticklabels([])\n",
    "ax.set_xlabel('$\\kappa_z$')\n",
    "ax.legend(loc='upper left')\n",
    "\n",
    "plt.tight_layout()\n",
    "plt.savefig('figure_04.pdf',bbox_inches='tight',dpi=200)\n",
    "plt.show()"
   ]
  },
  {
   "cell_type": "markdown",
   "id": "517285b5",
   "metadata": {},
   "source": [
    "Next, we'll also compute and save some summary statistics as latex macros:"
   ]
  },
  {
   "cell_type": "code",
   "execution_count": null,
   "id": "999a5bfb",
   "metadata": {},
   "outputs": [],
   "source": [
    "# Compute CDFs and get point estimates and uncertainties\n",
    "cdf_kd_marginal = np.cumsum(p_kappa_dc_marginal)/np.sum(p_kappa_dc_marginal)\n",
    "cdf_kz_marginal = np.cumsum(p_kappa_z_marginal)/np.sum(p_kappa_z_marginal)\n",
    "cdf_kd_1D = np.cumsum(p_kappa_dc)/np.sum(p_kappa_dc)\n",
    "cdf_kz_1D = np.cumsum(p_kappa_z)/np.sum(p_kappa_z)"
   ]
  },
  {
   "cell_type": "code",
   "execution_count": null,
   "id": "1aa92d1a",
   "metadata": {},
   "outputs": [],
   "source": [
    "# This helper function will give us median values and upper/lower errors\n",
    "def get_values(kappas,cdfs):\n",
    "    \n",
    "    kappa_05 = np.interp(0.05,cdfs,kappas)\n",
    "    kappa_50 = np.interp(0.50,cdfs,kappas)\n",
    "    kappa_95 = np.interp(0.95,cdfs,kappas)\n",
    "    \n",
    "    return kappa_50,kappa_95-kappa_50,kappa_50-kappa_05"
   ]
  },
  {
   "cell_type": "code",
   "execution_count": null,
   "id": "2d9244df",
   "metadata": {},
   "outputs": [],
   "source": [
    "# Save our fitting results\n",
    "with open('./uniformRate_results.txt','w') as macrofile:\n",
    "    \n",
    "    macrofile.write(\"\\\\newcommand{{\\\\UniformRateKappaDcMarginal}}{{{0:.2f}^{{+{1:.2f}}}_{{-{2:.2f}}}}}\".\\\n",
    "                    format(*get_values(kappa_dcs_2D,cdf_kd_marginal)))\n",
    "    macrofile.write(\"\\n\")\n",
    "\n",
    "    macrofile.write(\"\\\\newcommand{{\\\\UniformRateKappaZMarginal}}{{{0:.2f}^{{+{1:.2f}}}_{{-{2:.2f}}}}}\".\\\n",
    "                    format(*get_values(kappa_zs_2D,cdf_kz_marginal)))\n",
    "    macrofile.write(\"\\n\")\n",
    "    \n",
    "    macrofile.write(\"\\\\newcommand{{\\\\UniformRateKappaDcConditioned}}{{{0:.2f}^{{+{1:.2f}}}_{{-{2:.2f}}}}}\".\\\n",
    "                    format(*get_values(kappa_dcs_1D,cdf_kd_1D)))\n",
    "    macrofile.write(\"\\n\")\n",
    "\n",
    "    macrofile.write(\"\\\\newcommand{{\\\\UniformRateKappaZConditioned}}{{{0:.2f}^{{+{1:.2f}}}_{{-{2:.2f}}}}}\".\\\n",
    "                    format(*get_values(kappa_zs_1D,cdf_kz_1D)))\n",
    "    macrofile.write(\"\\n\")"
   ]
  },
  {
   "cell_type": "code",
   "execution_count": null,
   "id": "89a44bc9",
   "metadata": {},
   "outputs": [],
   "source": []
  }
 ],
 "metadata": {
  "kernelspec": {
   "display_name": "Python 3 (ipykernel)",
   "language": "python",
   "name": "python3"
  },
  "language_info": {
   "codemirror_mode": {
    "name": "ipython",
    "version": 3
   },
   "file_extension": ".py",
   "mimetype": "text/x-python",
   "name": "python",
   "nbconvert_exporter": "python",
   "pygments_lexer": "ipython3",
   "version": "3.10.8"
  }
 },
 "nbformat": 4,
 "nbformat_minor": 5
}
